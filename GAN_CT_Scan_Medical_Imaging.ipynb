{
  "cells": [
    {
      "cell_type": "markdown",
      "metadata": {
        "id": "8zIJAsQXZazj"
      },
      "source": [
        "# Génération d'Images Synthétiques de Tomodensitométrie à l'aide de Réseaux Antagonistes Génératifs (GANs) pour l'Augmentation des Données en Imagerie Médicale"
      ]
    },
    {
      "cell_type": "markdown",
      "metadata": {
        "id": "10I9Wji2Zaz3"
      },
      "source": [
        "Lien de dataset : https://www.kaggle.com/datasets/4quant/soft-tissue-sarcoma\n",
        "\n",
        "## Introduction\n",
        "\n",
        "Dans le domaine de l'imagerie médicale, l'application des techniques d'apprentissage profond a montré un potentiel immense pour améliorer la précision des diagnostics, améliorer la qualité des images et faciliter le développement de nouveaux outils de diagnostic. Parmi ces techniques, les Réseaux Antagonistes Génératifs (GANs) ont émergé comme une méthode puissante pour générer des images synthétiques indiscernables des images réelles. Cette capacité est particulièrement utile en imagerie médicale, où obtenir des ensembles de données vastes et diversifiés peut être difficile en raison des préoccupations liées à la confidentialité, aux coûts élevés et à la disponibilité limitée des données annotées.\n",
        "\n",
        "Ce notebook Jupyter vise à démontrer le processus de construction, de formation et d'évaluation d'un GAN pour générer des images synthétiques de tomodensitométrie (CT). L'ensemble de données utilisé dans ce notebook se compose de scanners CT de patients atteints de sarcomes des tissus mous des extrémités, fournis sous forme de fichiers `.h5`. Le modèle GAN sera entraîné sur cet ensemble de données pour générer des images CT synthétiques qui peuvent potentiellement être utilisées pour augmenter les ensembles de données d'entraînement pour diverses tâches d'imagerie médicale, telles que la détection, la segmentation et la classification des tumeurs.\n",
        "\n",
        "## Description de l'Ensemble de Données\n",
        "\n",
        "L'ensemble de données utilisé dans ce notebook contient des données d'imagerie FDG-PET/CT et IRM anatomique (pondérée T1, pondérée T2 avec suppression de la graisse) de 51 patients atteints de sarcomes des tissus mous (STSs) des extrémités, avec une confirmation histologique. Tous les patients ont passé des scanners FDG-PET/CT et IRM avant traitement entre novembre 2004 et novembre 2011. Pendant la période de suivi, 19 patients ont développé des métastases pulmonaires. Les données d'imagerie, les contours des tumeurs, les données cliniques et le code source ont été utilisés dans l'étude de Vallières et al. (2015), qui portait sur la prédiction des métastases pulmonaires dans les sarcomes des tissus mous en utilisant des modèles de radiomique dérivés des caractéristiques de texture conjointes FDG-PET et IRM.\n",
        "\n",
        "## Objectifs\n",
        "\n",
        "1. **Chargement et Prétraitement des Données** : Nous commencerons par charger les données de scan CT à partir des fichiers `.h5` fournis, suivis d'étapes de prétraitement pour normaliser et préparer les données pour l'entraînement.\n",
        "2. **Définition de l'Architecture du GAN** : Le modèle GAN se compose de deux composants principaux : le Générateur et le Discriminateur. Le Générateur crée des images synthétiques, tandis que le Discriminateur les évalue par rapport aux images réelles. Nous définirons l'architecture de ces deux composants.\n",
        "3. **Processus de Formation** : Nous mettrons en œuvre la boucle d'entraînement pour le GAN. Cela implique d'alterner entre l'entraînement du Générateur et du Discriminateur pour s'assurer que le Générateur améliore sa capacité à créer des images réalistes tandis que le Discriminateur améliore sa capacité à distinguer les images réelles des images synthétiques.\n",
        "4. **Génération et Sauvegarde d'Images** : Tout au long du processus d'entraînement, nous générerons et enregistrerons des images à chaque époque pour surveiller les progrès du Générateur. De plus, nous enregistrerons l'ensemble final d'images générées pour une évaluation ultérieure.\n",
        "5. **Évaluation et Analyse** : Nous évaluerons la performance du GAN en évaluant la qualité des images générées et en examinant la capacité du Discriminateur à les différencier des images réelles.\n",
        "6. **Conclusions et Travaux Futurs** : Enfin, nous résumerons les résultats et discuterons des améliorations potentielles et des directions futures pour ce travail.\n",
        "\n",
        "## Importance des Données Synthétiques en Imagerie Médicale\n",
        "\n",
        "L'utilisation de données synthétiques en imagerie médicale présente plusieurs avantages :\n",
        "\n",
        "- **Augmentation des Données** : Les images synthétiques peuvent être utilisées pour augmenter les ensembles de données existants, fournissant plus d'exemples pour l'entraînement des modèles d'apprentissage automatique. Cela est particulièrement utile dans les scénarios où l'obtention d'images médicales réelles est difficile ou coûteuse.\n",
        "- **Préservation de la Confidentialité** : Les images synthétiques peuvent aider à résoudre les problèmes de confidentialité associés à l'utilisation de données réelles de patients, car elles ne contiennent pas d'informations identifiables.\n",
        "- **Amélioration de la Robustesse des Modèles** : En entraînant des modèles sur un ensemble d'images plus diversifié, y compris des images synthétiques, nous pouvons améliorer leur robustesse et leur capacité à généraliser à différents types de données.\n",
        "\n",
        "## Aperçu des Réseaux Antagonistes Génératifs (GANs)\n",
        "\n",
        "Les GANs, introduits par Ian Goodfellow et ses collègues en 2014, sont une classe de réseaux neuronaux conçus pour générer de nouveaux échantillons de données qui ressemblent à un ensemble d'entraînement donné. Un GAN se compose de deux réseaux neuronaux :\n",
        "\n",
        "- **Générateur** : Le Générateur prend un vecteur de bruit aléatoire en entrée et produit une image. L'objectif du Générateur est de créer des images indiscernables des images réelles.\n",
        "- **Discriminateur** : Le Discriminateur prend une image en entrée et produit une probabilité indiquant si l'image est réelle (provenant de l'ensemble d'entraînement) ou fausse (produite par le Générateur). Le Discriminateur est entraîné pour classer correctement les images réelles et synthétiques.\n",
        "\n",
        "Pendant l'entraînement, le Générateur et le Discriminateur sont engagés dans un jeu minimax à deux joueurs. Le Générateur vise à tromper le Discriminateur en générant des images réalistes, tandis que le Discriminateur s'efforce de reconnaître correctement les images réelles et fausses. Ce processus antagoniste continue jusqu'à ce que le Générateur produise des images très réalistes.\n",
        "\n",
        "## Environnement de Formation et Contraintes Matérielles\n",
        "\n",
        "Ce notebook est conçu pour être exécuté sur Google Colab, une plateforme cloud populaire qui fournit un accès gratuit aux GPU et TPU. Compte tenu des contraintes matérielles, telles qu'une limite de RAM de 12 Go, nous optimiserons le processus de formation en ajustant des paramètres comme la taille des lots et en utilisant des techniques comme le préchargement des données pour améliorer l'efficacité. De plus, nous veillerons à ce que le processus de formation soit robuste et puisse être repris en cas d'interruption.\n",
        "\n",
        "## Résultats Attendus\n",
        "\n",
        "À la fin de ce notebook, nous nous attendons à avoir un modèle GAN entraîné capable de générer des images CT synthétiques de haute qualité. Ces images devraient ressembler de près aux scanners CT réels de l'ensemble de données, démontrant le potentiel des GANs pour l'augmentation des données en imagerie médicale. De plus, les connaissances acquises grâce à ce projet peuvent servir de base à des recherches et développements ultérieurs dans l'application des GANs à d'autres types de données d'imagerie médicale.\n",
        "\n",
        "---\n",
        "\n",
        "Commençons par importer les bibliothèques nécessaires et charger l'ensemble de données.\n"
      ]
    },
    {
      "cell_type": "code",
      "execution_count": 1,
      "metadata": {
        "colab": {
          "base_uri": "https://localhost:8080/"
        },
        "id": "Ije_Ze4lCYZc",
        "outputId": "09e94e33-6b01-4324-8150-61d85c639169"
      },
      "outputs": [
        {
          "name": "stdout",
          "output_type": "stream",
          "text": [
            "Mounted at /content/drive\n"
          ]
        }
      ],
      "source": [
        "from google.colab import drive\n",
        "drive.mount('/content/drive')"
      ]
    },
    {
      "cell_type": "code",
      "execution_count": 2,
      "metadata": {
        "id": "Z-gS2wGHCUeJ"
      },
      "outputs": [],
      "source": [
        "import h5py\n",
        "import numpy as np\n",
        "import tensorflow as tf\n",
        "from skimage.transform import resize\n",
        "from tensorflow.keras import layers\n",
        "import matplotlib.pyplot as plt\n",
        "import time\n",
        "import os\n",
        "import gc\n",
        "from IPython.display import clear_output"
      ]
    },
    {
      "cell_type": "markdown",
      "metadata": {
        "id": "DQDEWBaJZa0B"
      },
      "source": [
        "Exploration de la structure des données"
      ]
    },
    {
      "cell_type": "code",
      "execution_count": 3,
      "metadata": {
        "colab": {
          "base_uri": "https://localhost:8080/"
        },
        "id": "yBeLclmtEWx8",
        "outputId": "bbff53ce-db72-4de7-976e-b285c1a23e5f"
      },
      "outputs": [
        {
          "name": "stdout",
          "output_type": "stream",
          "text": [
            "Structure of patient_images_lowres.h5:\n",
            "ct_data\n",
            "  STS_002: <HDF5 dataset \"STS_002\": shape (134, 256, 256), type \"<f4\">\n",
            "  STS_003: <HDF5 dataset \"STS_003\": shape (134, 256, 256), type \"<f4\">\n",
            "  STS_005: <HDF5 dataset \"STS_005\": shape (134, 256, 256), type \"<f4\">\n",
            "  STS_011: <HDF5 dataset \"STS_011\": shape (134, 256, 256), type \"<f4\">\n",
            "  STS_012: <HDF5 dataset \"STS_012\": shape (134, 256, 256), type \"<f4\">\n",
            "  STS_015: <HDF5 dataset \"STS_015\": shape (134, 256, 256), type \"<f4\">\n",
            "  STS_020: <HDF5 dataset \"STS_020\": shape (134, 256, 256), type \"<f4\">\n",
            "  STS_021: <HDF5 dataset \"STS_021\": shape (156, 256, 256), type \"<f4\">\n",
            "  STS_022: <HDF5 dataset \"STS_022\": shape (134, 256, 256), type \"<f4\">\n",
            "  STS_023: <HDF5 dataset \"STS_023\": shape (134, 256, 256), type \"<f4\">\n",
            "  STS_024: <HDF5 dataset \"STS_024\": shape (134, 256, 256), type \"<f4\">\n",
            "  STS_029: <HDF5 dataset \"STS_029\": shape (134, 256, 256), type \"<f4\">\n",
            "  STS_031: <HDF5 dataset \"STS_031\": shape (129, 256, 256), type \"<f4\">\n",
            "  STS_034: <HDF5 dataset \"STS_034\": shape (134, 256, 256), type \"<f4\">\n",
            "  STS_037: <HDF5 dataset \"STS_037\": shape (134, 256, 256), type \"<f4\">\n",
            "  STS_039: <HDF5 dataset \"STS_039\": shape (134, 256, 256), type \"<f4\">\n",
            "  STS_041: <HDF5 dataset \"STS_041\": shape (156, 256, 256), type \"<f4\">\n",
            "  STS_048: <HDF5 dataset \"STS_048\": shape (134, 256, 256), type \"<f4\">\n",
            "ct_data/STS_002\n",
            "ct_data/STS_003\n",
            "ct_data/STS_005\n",
            "ct_data/STS_011\n",
            "ct_data/STS_012\n",
            "ct_data/STS_015\n",
            "ct_data/STS_020\n",
            "ct_data/STS_021\n",
            "ct_data/STS_022\n",
            "ct_data/STS_023\n",
            "ct_data/STS_024\n",
            "ct_data/STS_029\n",
            "ct_data/STS_031\n",
            "ct_data/STS_034\n",
            "ct_data/STS_037\n",
            "ct_data/STS_039\n",
            "ct_data/STS_041\n",
            "ct_data/STS_048\n",
            "\n",
            "Structure of lab_petct_vox_5.00mm.h5:\n",
            "ct_data\n",
            "  STS_002: <HDF5 dataset \"STS_002\": shape (175, 100, 100), type \"<f4\">\n",
            "  STS_003: <HDF5 dataset \"STS_003\": shape (175, 100, 100), type \"<f4\">\n",
            "  STS_005: <HDF5 dataset \"STS_005\": shape (175, 100, 100), type \"<f4\">\n",
            "  STS_012: <HDF5 dataset \"STS_012\": shape (175, 100, 100), type \"<f4\">\n",
            "  STS_021: <HDF5 dataset \"STS_021\": shape (203, 100, 100), type \"<f4\">\n",
            "  STS_023: <HDF5 dataset \"STS_023\": shape (175, 100, 100), type \"<f4\">\n",
            "  STS_031: <HDF5 dataset \"STS_031\": shape (168, 100, 100), type \"<f4\">\n",
            "ct_data/STS_002\n",
            "ct_data/STS_003\n",
            "ct_data/STS_005\n",
            "ct_data/STS_012\n",
            "ct_data/STS_021\n",
            "ct_data/STS_023\n",
            "ct_data/STS_031\n",
            "label_data\n",
            "  STS_002: <HDF5 dataset \"STS_002\": shape (175, 100, 100), type \"|u1\">\n",
            "  STS_003: <HDF5 dataset \"STS_003\": shape (175, 100, 100), type \"|u1\">\n",
            "  STS_005: <HDF5 dataset \"STS_005\": shape (175, 100, 100), type \"|u1\">\n",
            "  STS_012: <HDF5 dataset \"STS_012\": shape (175, 100, 100), type \"|u1\">\n",
            "  STS_021: <HDF5 dataset \"STS_021\": shape (203, 100, 100), type \"|u1\">\n",
            "  STS_023: <HDF5 dataset \"STS_023\": shape (175, 100, 100), type \"|u1\">\n",
            "  STS_031: <HDF5 dataset \"STS_031\": shape (168, 100, 100), type \"|u1\">\n",
            "label_data/STS_002\n",
            "label_data/STS_003\n",
            "label_data/STS_005\n",
            "label_data/STS_012\n",
            "label_data/STS_021\n",
            "label_data/STS_023\n",
            "label_data/STS_031\n",
            "pet_data\n",
            "  STS_002: <HDF5 dataset \"STS_002\": shape (175, 100, 100), type \"<f8\">\n",
            "  STS_003: <HDF5 dataset \"STS_003\": shape (175, 100, 100), type \"<f8\">\n",
            "  STS_005: <HDF5 dataset \"STS_005\": shape (175, 100, 100), type \"<f8\">\n",
            "  STS_012: <HDF5 dataset \"STS_012\": shape (175, 100, 100), type \"<f8\">\n",
            "  STS_021: <HDF5 dataset \"STS_021\": shape (203, 100, 100), type \"<f8\">\n",
            "  STS_023: <HDF5 dataset \"STS_023\": shape (175, 100, 100), type \"<f8\">\n",
            "  STS_031: <HDF5 dataset \"STS_031\": shape (168, 100, 100), type \"<f8\">\n",
            "pet_data/STS_002\n",
            "pet_data/STS_003\n",
            "pet_data/STS_005\n",
            "pet_data/STS_012\n",
            "pet_data/STS_021\n",
            "pet_data/STS_023\n",
            "pet_data/STS_031\n"
          ]
        }
      ],
      "source": [
        "lowres_images_path = '/content/drive/MyDrive/Sarcomas_dataset/patient_images_lowres.h5'\n",
        "petct_vox_path = '/content/drive/MyDrive/Sarcomas_dataset/lab_petct_vox_5.00mm.h5'\n",
        "def print_hdf5_structure(file_path):\n",
        "    \"\"\"\n",
        "    Recursively prints the structure of an HDF5 file, including groups and datasets.\n",
        "    \"\"\"\n",
        "    def print_structure(name, obj):\n",
        "        # Print the name of the group or dataset\n",
        "        print(name)\n",
        "        if isinstance(obj, h5py.Group):\n",
        "            for key, value in obj.items():\n",
        "                print(f\"  {key}: {value}\")\n",
        "\n",
        "    with h5py.File(file_path, 'r') as f:\n",
        "        f.visititems(print_structure)\n",
        "\n",
        "print(\"Structure of patient_images_lowres.h5:\")\n",
        "print_hdf5_structure(lowres_images_path)\n",
        "\n",
        "print(\"\\nStructure of lab_petct_vox_5.00mm.h5:\")\n",
        "print_hdf5_structure(petct_vox_path)\n"
      ]
    },
    {
      "cell_type": "code",
      "execution_count": null,
      "metadata": {
        "id": "M9hTTkRgOR_d"
      },
      "outputs": [],
      "source": [
        "def load_h5_data(filepath, dataset_group):\n",
        "    data = []\n",
        "    with h5py.File(filepath, 'r') as f:\n",
        "        group = f[dataset_group]\n",
        "        for name in group:\n",
        "            data.append(group[name][()])\n",
        "    return data\n",
        "\n",
        "ct_data_lowres = load_h5_data('/content/drive/MyDrive/Sarcomas_dataset/patient_images_lowres.h5', 'ct_data')\n",
        "ct_data_petct = load_h5_data('/content/drive/MyDrive/Sarcomas_dataset/lab_petct_vox_5.00mm.h5', 'ct_data')"
      ]
    },
    {
      "cell_type": "code",
      "execution_count": null,
      "metadata": {
        "colab": {
          "base_uri": "https://localhost:8080/",
          "height": 190
        },
        "id": "7ZZ0Im4SsMn7",
        "outputId": "208553c9-0114-4fc8-ec5b-827bc602a422"
      },
      "outputs": [
        {
          "data": {
            "image/png": "[encoded data removed]",
            "text/plain": [
              "<Figure size 1200x300 with 50 Axes>"
            ]
          },
          "metadata": {},
          "output_type": "display_data"
        }
      ],
      "source": [
        "num_images_to_display = 50\n",
        "fig, axes = plt.subplots(1, num_images_to_display, figsize=(12, 3))\n",
        "\n",
        "for i in range(num_images_to_display):\n",
        "    image_index = i\n",
        "    image = ct_slices[image_index]\n",
        "    axes[i].imshow(image, cmap='gray')\n",
        "    axes[i].axis('off')\n",
        "\n",
        "plt.suptitle('Original CT Data Images')\n",
        "plt.show()"
      ]
    },
    {
      "cell_type": "code",
      "execution_count": null,
      "metadata": {
        "id": "9F0Vte-oJrPz"
      },
      "outputs": [],
      "source": [
        "def normalize_data(data):\n",
        "    data = (data - np.min(data)) / (np.max(data) - np.min(data))\n",
        "    data = data * 2 - 1  # Normalize to [-1, 1]\n",
        "    return data\n",
        "\n",
        "def resize_data(data, target_shape=(256, 256)):\n",
        "    resized_data = resize(data, target_shape, mode='constant', anti_aliasing=True)\n",
        "    return resized_data\n",
        "\n",
        "combined_ct_data = ct_data_lowres + ct_data_petct\n",
        "ct_slices = []\n",
        "for volume in combined_ct_data:\n",
        "    normalized_volume = normalize_data(volume)\n",
        "    for slice in normalized_volume:\n",
        "        resized_slice = resize_data(slice, target_shape=(256, 256))\n",
        "        ct_slices.append(resized_slice)\n",
        "\n",
        "ct_slices = np.array(ct_slices)\n",
        "ct_slices = np.expand_dims(ct_slices, axis=-1)  # Add channel dimension"
      ]
    },
    {
      "cell_type": "markdown",
      "metadata": {
        "id": "Thw2uK_eBvKd"
      },
      "source": [
        "Le modèle de générateur comprend 10 couches conçues pour convertir un vecteur de bruit de 100 dimensions en une image en niveaux de gris de 256x256. L'architecture inclut :\n",
        "\n",
        "- **1 couche Dense** : Transforme le vecteur de bruit d'entrée en une carte de caractéristiques de 16x16x256, suivie de BatchNormalization et d'une activation LeakyReLU.\n",
        "- **1 couche Reshape** : Reformate le tenseur en 16x16x256.\n",
        "- **4 couches Conv2DTranspose** : Effectuent un suréchantillonnage séquentiel des cartes de caractéristiques à 32x32x128, 64x64x64, 128x128x32, et enfin à 256x256x1, chacune suivie de BatchNormalization et d'activations LeakyReLU, sauf la dernière couche, qui utilise une activation tanh pour mettre à l'échelle la sortie.\n",
        "- **Sortie** : La sortie finale est une image en niveaux de gris de 256x256."
      ]
    },
    {
      "cell_type": "code",
      "execution_count": null,
      "metadata": {
        "id": "1h5CdoagJ0wM"
      },
      "outputs": [],
      "source": [
        "def build_generator():\n",
        "    model = tf.keras.Sequential()\n",
        "\n",
        "    model.add(layers.Dense(16 * 16 * 256, use_bias=False, input_shape=(100,)))\n",
        "    model.add(layers.BatchNormalization())\n",
        "    model.add(layers.LeakyReLU())\n",
        "\n",
        "    model.add(layers.Reshape((16, 16, 256)))\n",
        "\n",
        "    model.add(layers.Conv2DTranspose(128, (5, 5), strides=(2, 2), padding='same', use_bias=False))\n",
        "    model.add(layers.BatchNormalization())\n",
        "    model.add(layers.LeakyReLU())\n",
        "\n",
        "    model.add(layers.Conv2DTranspose(64, (5, 5), strides=(2, 2), padding='same', use_bias=False))\n",
        "    model.add(layers.BatchNormalization())\n",
        "    model.add(layers.LeakyReLU())\n",
        "\n",
        "    model.add(layers.Conv2DTranspose(32, (5, 5), strides=(2, 2), padding='same', use_bias=False))\n",
        "    model.add(layers.BatchNormalization())\n",
        "    model.add(layers.LeakyReLU())\n",
        "\n",
        "    model.add(layers.Conv2DTranspose(1, (5, 5), strides=(2, 2), padding='same', use_bias=False, activation='tanh'))\n",
        "\n",
        "    return model"
      ]
    },
    {
      "cell_type": "markdown",
      "metadata": {
        "id": "Q75U2WURvpwa"
      },
      "source": [
        "\n",
        "Le modèle de discriminateur est composé de 6 couches, conçues pour distinguer les images réelles des images générées. L'architecture inclut :\n",
        "\n",
        "- **2 couches Conv2D** : La première avec 64 filtres et la seconde avec 128 filtres, chacune ayant des noyaux de 5x5, des strides de 2x2, et une activation LeakyReLU, suivie d'un Dropout de 0,3 pour régulariser.\n",
        "- **1 couche Flatten** : Aplatie les cartes de caractéristiques en un vecteur.\n",
        "- **1 couche Dense** : Produit une seule sortie qui représente la probabilité qu'une image soit réelle ou générée."
      ]
    },
    {
      "cell_type": "code",
      "execution_count": null,
      "metadata": {
        "id": "Ph6s7ei0J5vF"
      },
      "outputs": [],
      "source": [
        "def build_discriminator():\n",
        "    model = tf.keras.Sequential()\n",
        "    model.add(layers.Conv2D(64, (5, 5), strides=(2, 2), padding='same', input_shape=[256, 256, 1]))\n",
        "    model.add(layers.LeakyReLU())\n",
        "    model.add(layers.Dropout(0.3))\n",
        "\n",
        "    model.add(layers.Conv2D(128, (5, 5), strides=(2, 2), padding='same'))\n",
        "    model.add(layers.LeakyReLU())\n",
        "    model.add(layers.Dropout(0.3))\n",
        "\n",
        "    model.add(layers.Flatten())\n",
        "    model.add(layers.Dense(1))\n",
        "\n",
        "    return model\n"
      ]
    },
    {
      "cell_type": "code",
      "execution_count": null,
      "metadata": {
        "colab": {
          "base_uri": "https://localhost:8080/"
        },
        "id": "o3AKHvZHJ-z1",
        "outputId": "cc834ace-30cf-4b7f-ec15-8bb1c2bac748"
      },
      "outputs": [
        {
          "name": "stdout",
          "output_type": "stream",
          "text": [
            "Model: \"sequential\"\n",
            "_________________________________________________________________\n",
            " Layer (type)                Output Shape              Param #   \n",
            "=================================================================\n",
            " dense (Dense)               (None, 65536)             6553600   \n",
            "                                                                 \n",
            " batch_normalization (Batch  (None, 65536)             262144    \n",
            " Normalization)                                                  \n",
            "                                                                 \n",
            " leaky_re_lu (LeakyReLU)     (None, 65536)             0         \n",
            "                                                                 \n",
            " reshape (Reshape)           (None, 16, 16, 256)       0         \n",
            "                                                                 \n",
            " conv2d_transpose (Conv2DTr  (None, 32, 32, 128)       819200    \n",
            " anspose)                                                        \n",
            "                                                                 \n",
            " batch_normalization_1 (Bat  (None, 32, 32, 128)       512       \n",
            " chNormalization)                                                \n",
            "                                                                 \n",
            " leaky_re_lu_1 (LeakyReLU)   (None, 32, 32, 128)       0         \n",
            "                                                                 \n",
            " conv2d_transpose_1 (Conv2D  (None, 64, 64, 64)        204800    \n",
            " Transpose)                                                      \n",
            "                                                                 \n",
            " batch_normalization_2 (Bat  (None, 64, 64, 64)        256       \n",
            " chNormalization)                                                \n",
            "                                                                 \n",
            " leaky_re_lu_2 (LeakyReLU)   (None, 64, 64, 64)        0         \n",
            "                                                                 \n",
            " conv2d_transpose_2 (Conv2D  (None, 128, 128, 32)      51200     \n",
            " Transpose)                                                      \n",
            "                                                                 \n",
            " batch_normalization_3 (Bat  (None, 128, 128, 32)      128       \n",
            " chNormalization)                                                \n",
            "                                                                 \n",
            " leaky_re_lu_3 (LeakyReLU)   (None, 128, 128, 32)      0         \n",
            "                                                                 \n",
            " conv2d_transpose_3 (Conv2D  (None, 256, 256, 1)       800       \n",
            " Transpose)                                                      \n",
            "                                                                 \n",
            "=================================================================\n",
            "Total params: 7892640 (30.11 MB)\n",
            "Trainable params: 7761120 (29.61 MB)\n",
            "Non-trainable params: 131520 (513.75 KB)\n",
            "_________________________________________________________________\n",
            "Model: \"sequential_1\"\n",
            "_________________________________________________________________\n",
            " Layer (type)                Output Shape              Param #   \n",
            "=================================================================\n",
            " conv2d (Conv2D)             (None, 128, 128, 64)      1664      \n",
            "                                                                 \n",
            " leaky_re_lu_4 (LeakyReLU)   (None, 128, 128, 64)      0         \n",
            "                                                                 \n",
            " dropout (Dropout)           (None, 128, 128, 64)      0         \n",
            "                                                                 \n",
            " conv2d_1 (Conv2D)           (None, 64, 64, 128)       204928    \n",
            "                                                                 \n",
            " leaky_re_lu_5 (LeakyReLU)   (None, 64, 64, 128)       0         \n",
            "                                                                 \n",
            " dropout_1 (Dropout)         (None, 64, 64, 128)       0         \n",
            "                                                                 \n",
            " flatten (Flatten)           (None, 524288)            0         \n",
            "                                                                 \n",
            " dense_1 (Dense)             (None, 1)                 524289    \n",
            "                                                                 \n",
            "=================================================================\n",
            "Total params: 730881 (2.79 MB)\n",
            "Trainable params: 730881 (2.79 MB)\n",
            "Non-trainable params: 0 (0.00 Byte)\n",
            "_________________________________________________________________\n"
          ]
        }
      ],
      "source": [
        "generator = build_generator()\n",
        "discriminator = build_discriminator()\n",
        "\n",
        "generator.summary()\n",
        "discriminator.summary()\n",
        "\n",
        "# GAN Loss Functions\n",
        "cross_entropy = tf.keras.losses.BinaryCrossentropy(from_logits=True)\n",
        "\n",
        "def discriminator_loss(real_output, fake_output):\n",
        "    real_loss = cross_entropy(tf.ones_like(real_output), real_output)\n",
        "    fake_loss = cross_entropy(tf.zeros_like(fake_output), fake_output)\n",
        "    total_loss = real_loss + fake_loss\n",
        "    return total_loss\n",
        "\n",
        "def generator_loss(fake_output):\n",
        "    return cross_entropy(tf.ones_like(fake_output), fake_output)\n",
        "\n",
        "# Optimizers\n",
        "generator_optimizer = tf.keras.optimizers.Adam(1e-4)\n",
        "discriminator_optimizer = tf.keras.optimizers.Adam(1e-4)"
      ]
    },
    {
      "cell_type": "markdown",
      "metadata": {
        "id": "BJdSpb93woQZ"
      },
      "source": [
        "Le script de formation optimise un modèle GAN en suivant un processus itératif de 30 époques, en surveillant les pertes du discriminateur et du générateur à chaque étape. Après chaque époque, les modèles sont évalués et les meilleurs modèles sont sauvegardés si les pertes moyennes sont inférieures aux précédentes. Les modèles de générateur et de discriminateur sont enregistrés dans un répertoire dédié lorsqu'ils atteignent leurs meilleures performances. De plus, des images synthétiques sont générées et sauvegardées après chaque époque pour visualiser les progrès. La fonction utilise efficacement le RAM et la VRAM disponibles pour maximiser l'efficacité du processus de formation.\n"
      ]
    },
    {
      "cell_type": "code",
      "execution_count": null,
      "metadata": {
        "id": "mKybrJ-nJ_qJ"
      },
      "outputs": [],
      "source": [
        "@tf.function\n",
        "def train_step(images):\n",
        "    noise = tf.random.normal([BATCH_SIZE, 100])\n",
        "    with tf.GradientTape() as gen_tape, tf.GradientTape() as disc_tape:\n",
        "        generated_images = generator(noise, training=True)\n",
        "        real_output = discriminator(images, training=True)\n",
        "        fake_output = discriminator(generated_images, training=True)\n",
        "        gen_loss = generator_loss(fake_output)\n",
        "        disc_loss = discriminator_loss(real_output, fake_output)\n",
        "\n",
        "    gradients_of_generator = gen_tape.gradient(gen_loss, generator.trainable_variables)\n",
        "    gradients_of_discriminator = disc_tape.gradient(disc_loss, discriminator.trainable_variables)\n",
        "    generator_optimizer.apply_gradients(zip(gradients_of_generator, generator.trainable_variables))\n",
        "    discriminator_optimizer.apply_gradients(zip(gradients_of_discriminator, discriminator.trainable_variables))\n",
        "\n",
        "    return disc_loss, gen_loss\n",
        "\n",
        "# Training Function with Time Tracking and Loss Ratio\n",
        "def train(dataset, epochs):\n",
        "    epoch_logs = []  # List to keep track of epoch logs\n",
        "    best_gen_loss = float('inf')  # Initialize best generator loss\n",
        "    best_disc_loss = float('inf')  # Initialize best discriminator loss\n",
        "    checkpoint_dir = './training_checkpoints'\n",
        "    os.makedirs(checkpoint_dir, exist_ok=True)\n",
        "\n",
        "    for epoch in range(epochs):\n",
        "        start_time = time.time()  # Start time tracking for the epoch\n",
        "        disc_losses = []\n",
        "        gen_losses = []\n",
        "\n",
        "        for image_batch in dataset:\n",
        "            d_loss, g_loss = train_step(image_batch)\n",
        "            disc_losses.append(d_loss)\n",
        "            gen_losses.append(g_loss)\n",
        "\n",
        "        # End time tracking for the epoch\n",
        "        end_time = time.time()\n",
        "        # Calculate the duration for the epoch\n",
        "        duration = end_time - start_time\n",
        "\n",
        "        # Calculate the average losses and their ratio\n",
        "        d_loss_avg = sum(disc_losses) / len(disc_losses)\n",
        "        g_loss_avg = sum(gen_losses) / len(gen_losses)\n",
        "        log_message = (f\"Epoch [{epoch+1}/{epochs}]: Discriminator Loss: {d_loss_avg:.4f}, \"\n",
        "                       f\"Generator Loss: {g_loss_avg:.4f}, Ratio: {d_loss_avg/g_loss_avg:.4f}, \"\n",
        "                       f\"Time: {duration:.2f} sec\")\n",
        "\n",
        "        epoch_logs.append(log_message)\n",
        "\n",
        "        # Check if the current model is the best so far\n",
        "        if g_loss_avg < best_gen_loss or d_loss_avg < best_disc_loss:\n",
        "            if g_loss_avg < best_gen_loss:\n",
        "                best_gen_loss = g_loss_avg\n",
        "            if d_loss_avg < best_disc_loss:\n",
        "                best_disc_loss = d_loss_avg\n",
        "            # Save the models\n",
        "            generator.save(os.path.join(checkpoint_dir, 'generator_best.h5'))\n",
        "            discriminator.save(os.path.join(checkpoint_dir, 'discriminator_best.h5'))\n",
        "\n",
        "        # Produce images for the GIF\n",
        "        generate_and_save_images(generator, epoch + 1, seed)\n",
        "\n",
        "        # Print all epoch logs\n",
        "        clear_output(wait=True)\n",
        "        for log in epoch_logs:\n",
        "            print(log)\n",
        "\n",
        "    # Final image after the last epoch\n",
        "    generate_and_save_images(generator, epochs, seed)\n",
        "    print(\"Training complete. Best models saved.\")\n",
        "\n",
        "# Generate and Save Images\n",
        "def generate_and_save_images(model, epoch, test_input):\n",
        "    predictions = model(test_input, training=False)\n",
        "    fig = plt.figure(figsize=(4, 4))\n",
        "\n",
        "    for i in range(predictions.shape[0]):\n",
        "        plt.subplot(4, 4, i + 1)\n",
        "        plt.imshow(predictions[i, :, :, 0] * 127.5 + 127.5, cmap='gray')\n",
        "        plt.axis('off')\n",
        "\n",
        "    plt.savefig('image_at_epoch_{:04d}.png'.format(epoch))\n",
        "    plt.show()"
      ]
    },
    {
      "cell_type": "code",
      "execution_count": null,
      "metadata": {
        "id": "2eudYx1NKl_o"
      },
      "outputs": [],
      "source": [
        "# Prepare the Dataset with Prefetching\n",
        "BUFFER_SIZE = len(ct_slices)\n",
        "BATCH_SIZE = 128  # Reduce the batch size\n",
        "\n",
        "train_dataset = tf.data.Dataset.from_tensor_slices(ct_slices).shuffle(BUFFER_SIZE).batch(BATCH_SIZE).prefetch(tf.data.AUTOTUNE)"
      ]
    },
    {
      "cell_type": "code",
      "execution_count": null,
      "metadata": {
        "colab": {
          "base_uri": "https://localhost:8080/",
          "height": 738
        },
        "id": "9omsrbM4KrM2",
        "outputId": "973bc220-a1a3-42ae-ac57-6e7786e6bf7d"
      },
      "outputs": [
        {
          "name": "stdout",
          "output_type": "stream",
          "text": [
            "Epoch [1/30]: Discriminator Loss: 1.0304, Generator Loss: 1.2160, Ratio: 0.8474, Time: 30.87 sec\n",
            "Epoch [2/30]: Discriminator Loss: 0.9833, Generator Loss: 1.2861, Ratio: 0.7646, Time: 27.37 sec\n",
            "Epoch [3/30]: Discriminator Loss: 0.8742, Generator Loss: 1.1405, Ratio: 0.7665, Time: 27.26 sec\n",
            "Epoch [4/30]: Discriminator Loss: 0.9285, Generator Loss: 1.1098, Ratio: 0.8366, Time: 27.78 sec\n",
            "Epoch [5/30]: Discriminator Loss: 1.2162, Generator Loss: 0.9481, Ratio: 1.2827, Time: 27.63 sec\n",
            "Epoch [6/30]: Discriminator Loss: 1.2747, Generator Loss: 0.8852, Ratio: 1.4400, Time: 27.42 sec\n",
            "Epoch [7/30]: Discriminator Loss: 1.1815, Generator Loss: 0.9240, Ratio: 1.2788, Time: 27.48 sec\n",
            "Epoch [8/30]: Discriminator Loss: 1.4866, Generator Loss: 0.8087, Ratio: 1.8383, Time: 27.57 sec\n",
            "Epoch [9/30]: Discriminator Loss: 0.9434, Generator Loss: 1.1864, Ratio: 0.7951, Time: 27.57 sec\n",
            "Epoch [10/30]: Discriminator Loss: 1.4763, Generator Loss: 0.8270, Ratio: 1.7852, Time: 27.55 sec\n",
            "Epoch [11/30]: Discriminator Loss: 0.9437, Generator Loss: 1.1499, Ratio: 0.8207, Time: 27.52 sec\n",
            "Epoch [12/30]: Discriminator Loss: 1.3556, Generator Loss: 0.8344, Ratio: 1.6246, Time: 27.53 sec\n",
            "Epoch [13/30]: Discriminator Loss: 1.2098, Generator Loss: 0.9510, Ratio: 1.2720, Time: 27.52 sec\n",
            "Epoch [14/30]: Discriminator Loss: 1.3956, Generator Loss: 0.8450, Ratio: 1.6516, Time: 27.58 sec\n",
            "Epoch [15/30]: Discriminator Loss: 1.4098, Generator Loss: 0.8661, Ratio: 1.6278, Time: 27.52 sec\n",
            "Epoch [16/30]: Discriminator Loss: 1.2399, Generator Loss: 0.8871, Ratio: 1.3977, Time: 27.47 sec\n",
            "Epoch [17/30]: Discriminator Loss: 1.2701, Generator Loss: 0.8183, Ratio: 1.5521, Time: 27.44 sec\n",
            "Epoch [18/30]: Discriminator Loss: 1.0219, Generator Loss: 1.1698, Ratio: 0.8735, Time: 27.42 sec\n",
            "Epoch [19/30]: Discriminator Loss: 0.8147, Generator Loss: 1.3574, Ratio: 0.6002, Time: 27.44 sec\n",
            "Epoch [20/30]: Discriminator Loss: 1.4131, Generator Loss: 0.9083, Ratio: 1.5558, Time: 27.47 sec\n",
            "Epoch [21/30]: Discriminator Loss: 1.1855, Generator Loss: 1.0083, Ratio: 1.1757, Time: 27.51 sec\n",
            "Epoch [22/30]: Discriminator Loss: 0.9262, Generator Loss: 1.1688, Ratio: 0.7924, Time: 27.54 sec\n",
            "Epoch [23/30]: Discriminator Loss: 1.1551, Generator Loss: 0.8868, Ratio: 1.3025, Time: 27.53 sec\n",
            "Epoch [24/30]: Discriminator Loss: 0.9666, Generator Loss: 1.0620, Ratio: 0.9102, Time: 27.54 sec\n",
            "Epoch [25/30]: Discriminator Loss: 1.0691, Generator Loss: 0.9871, Ratio: 1.0830, Time: 27.52 sec\n",
            "Epoch [26/30]: Discriminator Loss: 1.0773, Generator Loss: 1.0421, Ratio: 1.0337, Time: 27.54 sec\n",
            "Epoch [27/30]: Discriminator Loss: 1.1846, Generator Loss: 0.9649, Ratio: 1.2277, Time: 27.55 sec\n",
            "Epoch [28/30]: Discriminator Loss: 0.6712, Generator Loss: 1.3761, Ratio: 0.4878, Time: 27.57 sec\n",
            "Epoch [29/30]: Discriminator Loss: 0.9103, Generator Loss: 1.1626, Ratio: 0.7830, Time: 27.56 sec\n",
            "Epoch [30/30]: Discriminator Loss: 0.8367, Generator Loss: 1.1682, Ratio: 0.7163, Time: 27.52 sec\n"
          ]
        },
        {
          "data": {
            "image/png": "[encoded data removed]",
            "text/plain": [
              "<Figure size 400x400 with 8 Axes>"
            ]
          },
          "metadata": {},
          "output_type": "display_data"
        },
        {
          "name": "stdout",
          "output_type": "stream",
          "text": [
            "Training complete. Best models saved.\n"
          ]
        }
      ],
      "source": [
        "# Training Parameters\n",
        "EPOCHS = 30\n",
        "noise_dim = 100\n",
        "num_examples_to_generate = 8\n",
        "\n",
        "# Seed for consistent image generation\n",
        "seed = tf.random.normal([num_examples_to_generate, noise_dim])\n",
        "tf.keras.mixed_precision.set_global_policy('mixed_float16')\n",
        "\n",
        "# Start Training\n",
        "train(train_dataset, EPOCHS)"
      ]
    },
    {
      "cell_type": "markdown",
      "metadata": {
        "id": "pUVT1oiXvpwf"
      },
      "source": [
        "### Conclusion des Résultats Obtenus\n",
        "\n",
        "Les résultats des 30 époques de formation montrent une convergence progressive des pertes du discriminateur et du générateur. Au début, la perte du générateur est élevée et la perte du discriminateur est relativement faible, indiquant que le générateur a du mal à créer des images réalistes. Au fil des époques, la perte du générateur diminue tandis que celle du discriminateur augmente, jusqu'à atteindre un équilibre où les deux pertes sont proches. Les images générées montrent une amélioration notable en termes de réalisme visuel au cours des époques. Cette progression indique que le modèle GAN est capable d'apprendre et de générer des images médicales synthétiques de manière efficace, tout en maintenant un bon équilibre entre le générateur et le discriminateur. La réduction des pertes et le temps de formation relativement stable montrent que le modèle est bien optimisé pour les ressources disponibles, exploitant efficacement la mémoire RAM et la VRAM.\n"
      ]
    },
    {
      "cell_type": "markdown",
      "metadata": {
        "id": "itw9das2vpwg"
      },
      "source": [
        "### Utilité et Cas d'Utilisation des Images Produites\n",
        "\n",
        "Les images générées par le GAN ont de nombreuses applications précieuses dans le domaine médical. Elles peuvent être utilisées pour augmenter les ensembles de données d'entraînement, améliorant ainsi la performance des modèles d'apprentissage automatique pour des tâches comme la détection, la segmentation et la classification des tumeurs. De plus, ces images synthétiques aident à préserver la confidentialité des patients en fournissant des données réalistes sans compromettre les informations personnelles. Elles sont également utiles pour la recherche et le développement de nouveaux algorithmes de traitement d'images, offrant une ressource abondante et variée pour tester et valider de nouvelles techniques. En résumé, les images produites par les GANs jouent un rôle crucial dans l'avancement des technologies d'imagerie médicale tout en surmontant les défis liés à l'accès aux données réelles.\n"
      ]
    },
    {
      "cell_type": "markdown",
      "metadata": {
        "id": "3V0Yi52ovpwg"
      },
      "source": [
        "## Remerciements\n",
        "\n",
        "Nous remercions l'Unité de Physique Médicale de l'Université McGill pour avoir fourni l'ensemble de données utilisé dans ce notebook.\n",
        "Nous souhaitons aussi exprimer notre profonde gratitude au Pr. Hajji Tarik, enseignant à l'Université Privée de Fès, pour son soutien et son encadrement tout au long de cette formation."
      ]
    }
  ],
  "metadata": {
    "accelerator": "GPU",
    "colab": {
      "gpuType": "T4",
      "provenance": []
    },
    "kernelspec": {
      "display_name": "Python 3",
      "name": "python3"
    },
    "language_info": {
      "name": "python"
    }
  },
  "nbformat": 4,
  "nbformat_minor": 0
}
